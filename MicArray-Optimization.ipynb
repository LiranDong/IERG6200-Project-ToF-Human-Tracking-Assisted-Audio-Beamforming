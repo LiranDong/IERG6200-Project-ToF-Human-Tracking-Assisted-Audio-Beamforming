{
 "cells": [
  {
   "cell_type": "code",
   "execution_count": null,
   "metadata": {},
   "outputs": [],
   "source": [
    "import torch\n",
    "import matplotlib.pyplot as plt"
   ]
  },
  {
   "cell_type": "code",
   "execution_count": null,
   "metadata": {},
   "outputs": [],
   "source": [
    "n = 8\n",
    "m = 128\n",
    "f = 128\n",
    "\n",
    "p = torch.randn(n, 2, dtype=torch.float64, device='cpu') # inital mic-position\n",
    "\n",
    "# enable gradiant and setup optim\n",
    "p.requires_grad = True\n",
    "optim = torch.optim.AdamW([p], lr=5, weight_decay=1e-2)\n",
    "scheduler = torch.optim.lr_scheduler.LinearLR(optim, start_factor=1.0, end_factor=2e-4, total_iters=2000)\n",
    "\n",
    "his = []\n",
    "for i in range(800):\n",
    "    optim.zero_grad()\n",
    "\n",
    "    # create random audio frequency, target direction, interference direction\n",
    "    freq = 50 + (6000 - 50) * torch.rand(f, device=p.device, dtype=p.dtype)\n",
    "    u = torch.nn.functional.normalize(torch.randn(f, m, 1, 3, device=p.device, dtype=p.dtype) * torch.tensor([250, 300, 100], device=p.device, dtype=p.dtype) + torch.tensor([200, 0, 25], device=p.device, dtype=p.dtype), p=2, dim=-1)\n",
    "    v = torch.nn.functional.normalize(torch.randn(f, 1, m, 3, device=p.device, dtype=p.dtype) * torch.tensor([500, 600, 200], device=p.device, dtype=p.dtype) + torch.tensor([100, 0, 0], device=p.device, dtype=p.dtype), p=2, dim=-1)\n",
    "\n",
    "    # get guide vector\n",
    "    pos =  torch.concat([p, torch.zeros(n, 1, device=p.device, dtype=p.dtype)], dim=-1) + 2.0 * torch.randn(f, m, m, n, 3, device=p.device, dtype=p.dtype)\n",
    "    corr = torch.exp(- 2 * torch.pi * freq[:, None, None, None] * (0 + 1j) * torch.einsum('...i, ...ji -> ...j', u - v, pos) / 340000).mean(dim=-1).abs()\n",
    "\n",
    "    # set weight by angle between target & interference (disable loss when target is too close to interference)\n",
    "    w = torch.einsum('...i, ...i -> ...', u, v).acos() / (80 * torch.pi / 180)\n",
    "    w = 2 * (w**2 - torch.nn.functional.relu(w**2 - 1)) - 1\n",
    "    loss = w * corr\n",
    "    # loss is giving by the max interference\n",
    "    loss = (torch.softmax(loss, dim=-1) * loss).sum(dim=-1)\n",
    "    loss = loss.mean()\n",
    "\n",
    "    # GD\n",
    "    loss.backward()\n",
    "    optim.step()\n",
    "    scheduler.step()\n",
    "\n",
    "    # info save & print\n",
    "    his.append(loss.item())\n",
    "    if (i + 1) % 200 == 0:\n",
    "        print(loss.item())\n",
    "        plt.plot(his)\n",
    "        plt.show()"
   ]
  },
  {
   "cell_type": "code",
   "execution_count": null,
   "metadata": {},
   "outputs": [],
   "source": [
    "p = torch.concat([p, torch.zeros(n, 1, device=p.device, dtype=p.dtype)], dim=-1)"
   ]
  },
  {
   "cell_type": "code",
   "execution_count": null,
   "metadata": {},
   "outputs": [],
   "source": [
    "fig = plt.figure()\n",
    "ax = fig.add_subplot(projection='3d')\n",
    "ax.scatter(p[:, 0].numpy(force=True), p[:, 1].numpy(force=True), p[:, 2].numpy(force=True))\n",
    "print(p)\n",
    "print(str(p.round(decimals=2).tolist()).replace('[', '{').replace(']', '}'))"
   ]
  }
 ],
 "metadata": {
  "kernelspec": {
   "display_name": "Python 3",
   "language": "python",
   "name": "python3"
  },
  "language_info": {
   "codemirror_mode": {
    "name": "ipython",
    "version": 3
   },
   "file_extension": ".py",
   "mimetype": "text/x-python",
   "name": "python",
   "nbconvert_exporter": "python",
   "pygments_lexer": "ipython3",
   "version": "3.11.5"
  },
  "orig_nbformat": 4
 },
 "nbformat": 4,
 "nbformat_minor": 2
}
